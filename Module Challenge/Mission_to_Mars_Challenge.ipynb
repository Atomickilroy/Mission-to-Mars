{
 "cells": [
  {
   "cell_type": "code",
   "execution_count": null,
   "id": "d10fa9ea",
   "metadata": {},
   "outputs": [],
   "source": [
    "# step 1\n",
    "\n",
    "# Import Splinter and BeautifulSoup\n",
    "\n",
    "from splinter import Browser\n",
    "from bs4 import BeautifulSoup as soup\n",
    "from webdriver_manager.chrome import ChromeDriverManager\n",
    "import pandas as pd"
   ]
  },
  {
   "cell_type": "code",
   "execution_count": null,
   "id": "5bfc72ed",
   "metadata": {},
   "outputs": [],
   "source": [
    "# step 2 \n",
    "\n",
    "executable_path = {'executable_path': ChromeDriverManager().install()}\n",
    "browser = Browser('chrome', **executable_path, headless=False)"
   ]
  },
  {
   "cell_type": "code",
   "execution_count": null,
   "id": "188f717f",
   "metadata": {},
   "outputs": [],
   "source": [
    "# step 3 \n",
    "\n",
    "# Visit the mars nasa news site\n",
    "\n",
    "url = 'https://redplanetscience.com'\n",
    "browser.visit(url)\n",
    "\n",
    "# Optional delay for loading the page\n",
    "browser.is_element_present_by_css('div.list_text', wait_time=1)"
   ]
  },
  {
   "cell_type": "code",
   "execution_count": null,
   "id": "3cf86447",
   "metadata": {},
   "outputs": [],
   "source": [
    "# step 4\n",
    "\n",
    "html = browser.html\n",
    "\n",
    "news_soup = soup(html, 'html.parser')\n",
    "\n",
    "slide_elem = news_soup.select_one('div.list_text')\n",
    "\n",
    "#This means that this element holds all of the other elements\n",
    "#within it, and we'll reference it when we want to filter search\n",
    "#results even further. "
   ]
  },
  {
   "cell_type": "code",
   "execution_count": null,
   "id": "b2cbccf6",
   "metadata": {},
   "outputs": [],
   "source": [
    "# step 5\n",
    "\n",
    "slide_elem.find('div', class_='content_title')\n",
    "\n",
    "#The output should be the HTML containing the content title\n",
    "#and anything else nested inside of that <div />"
   ]
  },
  {
   "cell_type": "code",
   "execution_count": null,
   "id": "eb3b5691",
   "metadata": {},
   "outputs": [],
   "source": [
    "#Step 6\n",
    "\n",
    "# Use the parent element to find the first `a` tag and save it as `news_title`\n",
    "\n",
    "news_title = slide_elem.find('div', class_='content_title').get_text()\n",
    "news_title\n",
    "\n",
    "#The code above, for example, would return only the title of\n",
    "#the news article and not any of the HTML tags or elements."
   ]
  },
  {
   "cell_type": "code",
   "execution_count": null,
   "id": "7cb70199",
   "metadata": {},
   "outputs": [],
   "source": [
    "## look above by chaining the .get_text() to our find\n",
    "# only the text of the element is returned"
   ]
  },
  {
   "cell_type": "code",
   "execution_count": null,
   "id": "0d535322",
   "metadata": {},
   "outputs": [],
   "source": [
    "# Step 8\n",
    "\n",
    "# Grab only the article for this title\n",
    "# Use the parent elemeent to find the para txt\n",
    "\n",
    "new_s = slide_elem.find('div' , class_ = 'article_teaser_body').get_text()\n",
    "new_s"
   ]
  },
  {
   "cell_type": "markdown",
   "id": "d0536e6f",
   "metadata": {},
   "source": [
    "# **10.3.4 Scrape Mars Data: Featured Image**\n",
    "\n",
    "### Featured Images"
   ]
  },
  {
   "cell_type": "code",
   "execution_count": null,
   "id": "0446c4ac",
   "metadata": {},
   "outputs": [],
   "source": [
    "# Visit URL\n",
    "\n",
    "url = 'https://spaceimages-mars.com'\n",
    "browser.visit(url)"
   ]
  },
  {
   "cell_type": "code",
   "execution_count": null,
   "id": "cf009be8",
   "metadata": {},
   "outputs": [],
   "source": [
    "# Find and click the full image button\n",
    "\n",
    "full_image_elem = browser.find_by_tag('button')[1]\n",
    "full_image_elem.click()"
   ]
  },
  {
   "cell_type": "code",
   "execution_count": null,
   "id": "10a2a1d2",
   "metadata": {},
   "outputs": [],
   "source": [
    "# Parse the resulting html with soup\n",
    "html = browser.html\n",
    "img_soup = soup(html, 'html.parser')"
   ]
  },
  {
   "cell_type": "code",
   "execution_count": null,
   "id": "044a033c",
   "metadata": {},
   "outputs": [],
   "source": [
    "# Find the relative image url\n",
    "\n",
    "img_url_rel = img_soup.find('img', class_='fancybox-image').get('src')\n",
    "img_url_rel "
   ]
  },
  {
   "cell_type": "code",
   "execution_count": null,
   "id": "b0d571cd",
   "metadata": {},
   "outputs": [],
   "source": [
    "# add the partial link to the rest of the url\n",
    "\n",
    "img_url = f'https://spaceimages-mars.com/{img_url_rel}'\n",
    "img_url"
   ]
  },
  {
   "cell_type": "markdown",
   "id": "2163657c",
   "metadata": {},
   "source": [
    "## *10.3.5 Scrape Mars Data:Mars Facts*"
   ]
  },
  {
   "cell_type": "code",
   "execution_count": null,
   "id": "99cd113e",
   "metadata": {},
   "outputs": [],
   "source": [
    "#Scrape Mars table with pandas read html\n",
    "\n",
    "df = pd.read_html('https://galaxyfacts-mars.com')[0]\n",
    "df.columns=['description', 'Mars', 'Earth']\n",
    "df.set_index('description', inplace=True)\n",
    "df"
   ]
  },
  {
   "cell_type": "code",
   "execution_count": null,
   "id": "a7be99d0",
   "metadata": {},
   "outputs": [],
   "source": [
    "df.to_html()"
   ]
  },
  {
   "cell_type": "code",
   "execution_count": null,
   "id": "dcecf90c",
   "metadata": {},
   "outputs": [],
   "source": [
    "# 1. Use browser to visit the URL \n",
    "url = 'https://marshemispheres.com/'\n",
    "\n",
    "browser.visit(url)"
   ]
  },
  {
   "cell_type": "code",
   "execution_count": null,
   "id": "3eef046c",
   "metadata": {},
   "outputs": [],
   "source": [
    "# 2. Create a list to hold the images and titles.\n",
    "\n",
    "hemisphere_image_urls = []\n",
    "\n",
    "# 3. Write code to retrieve the image urls and titles for each hemisphere.\n",
    "\n",
    "html = browser.html\n",
    "links_soup = soup(html, 'html.parser')\n",
    "\n",
    "#Identify Common Tag\n",
    "\n",
    "img_links = links_soup.find_all('img', class_= \"thumb\")\n",
    "\n",
    "\n",
    "for i in range(4):\n",
    "    \n",
    "    #Find/ click each image\n",
    "    thumb_img = browser.find_by_tag('h3')[i].click()    \n",
    "    html = browser.html    \n",
    "    img_soup = soup(html, 'html.parser')  \n",
    "    \n",
    "    #Grab the Url\n",
    "    #img_url_rel = img_soup.find('img', class_='wide-image').get('src')\n",
    "    \n",
    "    img_url = 'https://marshemispheres.com/' + (img_soup.find('img', class_='wide-image').get('src'))  \n",
    "                                                                \n",
    "    title = img_soup.find('h2', class_='title').text   \n",
    "                                                                \n",
    "    #Create Dictionary/append hemisphere_image_urls      \n",
    "                                                              \n",
    "    link_dict = {'img_url' : img_url, 'title' :title}\n",
    "    hemisphere_image_urls.append(link_dict)\n",
    "    \n",
    "    #Direct Back \n",
    "                                                              \n",
    "    browser.back()\n",
    "  \n"
   ]
  },
  {
   "cell_type": "code",
   "execution_count": null,
   "id": "ce47aefd",
   "metadata": {},
   "outputs": [],
   "source": [
    "# 4. Print the list that holds the dictionary of each image url and title.\n",
    "hemisphere_image_urls"
   ]
  },
  {
   "cell_type": "code",
   "execution_count": null,
   "id": "e5c5a79b",
   "metadata": {},
   "outputs": [],
   "source": []
  },
  {
   "cell_type": "code",
   "execution_count": 84,
   "id": "693c0551",
   "metadata": {},
   "outputs": [],
   "source": [
    "browser.quit()"
   ]
  },
  {
   "cell_type": "code",
   "execution_count": null,
   "id": "52d7317f",
   "metadata": {},
   "outputs": [],
   "source": []
  },
  {
   "cell_type": "code",
   "execution_count": null,
   "id": "ba60c960",
   "metadata": {},
   "outputs": [],
   "source": []
  },
  {
   "cell_type": "code",
   "execution_count": null,
   "id": "ad393c83",
   "metadata": {},
   "outputs": [],
   "source": []
  },
  {
   "cell_type": "code",
   "execution_count": null,
   "id": "bfd4efa4",
   "metadata": {},
   "outputs": [],
   "source": []
  },
  {
   "cell_type": "code",
   "execution_count": null,
   "id": "29314157",
   "metadata": {},
   "outputs": [],
   "source": []
  },
  {
   "cell_type": "code",
   "execution_count": null,
   "id": "4cc0d282",
   "metadata": {},
   "outputs": [],
   "source": []
  },
  {
   "cell_type": "code",
   "execution_count": null,
   "id": "3f5c0da4",
   "metadata": {},
   "outputs": [],
   "source": []
  },
  {
   "cell_type": "code",
   "execution_count": null,
   "id": "29db4795",
   "metadata": {},
   "outputs": [],
   "source": []
  },
  {
   "cell_type": "code",
   "execution_count": null,
   "id": "65a018f6",
   "metadata": {},
   "outputs": [],
   "source": []
  }
 ],
 "metadata": {
  "kernelspec": {
   "display_name": "PythonData",
   "language": "python",
   "name": "pythondata"
  },
  "language_info": {
   "codemirror_mode": {
    "name": "ipython",
    "version": 3
   },
   "file_extension": ".py",
   "mimetype": "text/x-python",
   "name": "python",
   "nbconvert_exporter": "python",
   "pygments_lexer": "ipython3",
   "version": "3.7.13"
  }
 },
 "nbformat": 4,
 "nbformat_minor": 5
}
