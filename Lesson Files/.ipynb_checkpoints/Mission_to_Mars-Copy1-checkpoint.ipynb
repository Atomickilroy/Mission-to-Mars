{
 "cells": [
  {
   "cell_type": "code",
   "execution_count": 25,
   "id": "e614e93d",
   "metadata": {},
   "outputs": [],
   "source": [
    "# step 1\n",
    "\n",
    "# Import Splinter and BeautifulSoup\n",
    "\n",
    "from splinter import Browser\n",
    "from bs4 import BeautifulSoup as soup\n",
    "from webdriver_manager.chrome import ChromeDriverManager"
   ]
  },
  {
   "cell_type": "code",
   "execution_count": 26,
   "id": "0fba7a3f",
   "metadata": {},
   "outputs": [],
   "source": [
    "# step 2 \n",
    "\n",
    "executable_path = {'executable_path': ChromeDriverManager().install()}\n",
    "browser = Browser('chrome', **executable_path, headless=False)"
   ]
  },
  {
   "cell_type": "code",
   "execution_count": 5,
   "id": "14891e8f",
   "metadata": {},
   "outputs": [
    {
     "data": {
      "text/plain": [
       "True"
      ]
     },
     "execution_count": 5,
     "metadata": {},
     "output_type": "execute_result"
    }
   ],
   "source": [
    "# step 3 \n",
    "\n",
    "# Visit the mars nasa news site\n",
    "\n",
    "url = 'https://redplanetscience.com'\n",
    "browser.visit(url)\n",
    "\n",
    "# Optional delay for loading the page\n",
    "browser.is_element_present_by_css('div.list_text', wait_time=1)"
   ]
  },
  {
   "cell_type": "code",
   "execution_count": 7,
   "id": "69e44e53",
   "metadata": {},
   "outputs": [],
   "source": [
    "# step 4\n",
    "\n",
    "html = browser.html\n",
    "\n",
    "news_soup = soup(html, 'html.parser')\n",
    "\n",
    "slide_elem = news_soup.select_one('div.list_text')\n",
    "\n",
    "#This means that this element holds all of the other elements\n",
    "#within it, and we'll reference it when we want to filter search\n",
    "#results even further. "
   ]
  },
  {
   "cell_type": "code",
   "execution_count": 8,
   "id": "d8c0dc13",
   "metadata": {},
   "outputs": [
    {
     "data": {
      "text/plain": [
       "<div class=\"content_title\">NASA's MAVEN Explores Mars to Understand Radio Interference at Earth</div>"
      ]
     },
     "execution_count": 8,
     "metadata": {},
     "output_type": "execute_result"
    }
   ],
   "source": [
    "# step 5\n",
    "\n",
    "slide_elem.find('div', class_='content_title')\n",
    "\n",
    "#The output should be the HTML containing the content title\n",
    "#and anything else nested inside of that <div />"
   ]
  },
  {
   "cell_type": "code",
   "execution_count": 9,
   "id": "461ccc41",
   "metadata": {},
   "outputs": [
    {
     "data": {
      "text/plain": [
       "\"NASA's MAVEN Explores Mars to Understand Radio Interference at Earth\""
      ]
     },
     "execution_count": 9,
     "metadata": {},
     "output_type": "execute_result"
    }
   ],
   "source": [
    "#Step 6\n",
    "\n",
    "# Use the parent element to find the first `a` tag and save it as `news_title`\n",
    "\n",
    "news_title = slide_elem.find('div', class_='content_title').get_text()\n",
    "news_title\n",
    "\n",
    "#The code above, for example, would return only the title of\n",
    "#the news article and not any of the HTML tags or elements."
   ]
  },
  {
   "cell_type": "code",
   "execution_count": null,
   "id": "26509e7c",
   "metadata": {},
   "outputs": [],
   "source": [
    "## look above by chaining the .get_text() to our find\n",
    "# only the text of the element is returned"
   ]
  },
  {
   "cell_type": "code",
   "execution_count": 21,
   "id": "197a9426",
   "metadata": {},
   "outputs": [
    {
     "name": "stdout",
     "output_type": "stream",
     "text": [
      "NASA’s MAVEN spacecraft has discovered “layers” and “rifts” in the electrically charged part of the upper atmosphere of Mars.\n"
     ]
    }
   ],
   "source": [
    "# Step 8\n",
    "\n",
    "# Grab only the article for this title\n",
    "# Use the parent elemeent to find the para txt\n",
    "\n",
    "new_s = slide_elem.find('div' , class_ = 'article_teaser_body').get_text()\n",
    "print(f'{new_s})"
   ]
  },
  {
   "cell_type": "markdown",
   "id": "94256e84",
   "metadata": {},
   "source": [
    "# **10.3.4 Scrape Mars Data: Featured Image**\n",
    "\n",
    "### Featured Images"
   ]
  },
  {
   "cell_type": "code",
   "execution_count": 30,
   "id": "7b5fe5d5",
   "metadata": {},
   "outputs": [],
   "source": [
    "# Visit URL\n",
    "\n",
    "url = 'https://spaceimages-mars.com'\n",
    "browser.visit(url)"
   ]
  },
  {
   "cell_type": "code",
   "execution_count": 31,
   "id": "3eb78e99",
   "metadata": {},
   "outputs": [],
   "source": [
    "# Find and click the full image button\n",
    "\n",
    "full_image_elem = browser.find_by_tag('button')[1]\n",
    "full_image_elem.click()"
   ]
  },
  {
   "cell_type": "code",
   "execution_count": 33,
   "id": "69e9b13c",
   "metadata": {},
   "outputs": [],
   "source": [
    "# Parse the resulting html with soup\n",
    "html = browser.html\n",
    "img_soup = soup(html, 'html.parser')"
   ]
  },
  {
   "cell_type": "code",
   "execution_count": 34,
   "id": "7d459a06",
   "metadata": {},
   "outputs": [
    {
     "data": {
      "text/plain": [
       "'image/featured/mars3.jpg'"
      ]
     },
     "execution_count": 34,
     "metadata": {},
     "output_type": "execute_result"
    }
   ],
   "source": [
    "# Find the relative image url\n",
    "\n",
    "img_url_rel = img_soup.find('img', class_='fancybox-image').get('src')\n",
    "img_url_rel "
   ]
  },
  {
   "cell_type": "code",
   "execution_count": 35,
   "id": "2624ae6b",
   "metadata": {},
   "outputs": [
    {
     "data": {
      "text/plain": [
       "'https://spaceimages-mars.com/image/featured/mars3.jpg'"
      ]
     },
     "execution_count": 35,
     "metadata": {},
     "output_type": "execute_result"
    }
   ],
   "source": [
    "# add the partial link to the rest of the url\n",
    "\n",
    "img_url = f'https://spaceimages-mars.com/{img_url_rel}'\n",
    "img_url"
   ]
  },
  {
   "cell_type": "code",
   "execution_count": null,
   "id": "64940e71",
   "metadata": {},
   "outputs": [],
   "source": []
  }
 ],
 "metadata": {
  "kernelspec": {
   "display_name": "PythonData",
   "language": "python",
   "name": "pythondata"
  },
  "language_info": {
   "codemirror_mode": {
    "name": "ipython",
    "version": 3
   },
   "file_extension": ".py",
   "mimetype": "text/x-python",
   "name": "python",
   "nbconvert_exporter": "python",
   "pygments_lexer": "ipython3",
   "version": "3.7.13"
  }
 },
 "nbformat": 4,
 "nbformat_minor": 5
}
